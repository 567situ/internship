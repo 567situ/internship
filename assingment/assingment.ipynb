{
 "cells": [
  {
   "cell_type": "code",
   "execution_count": 1,
   "id": "deb3c7b4",
   "metadata": {},
   "outputs": [
    {
     "name": "stdout",
     "output_type": "stream",
     "text": [
      "['apple', 'and', 'egg']\n"
     ]
    }
   ],
   "source": [
    "#que(2)\n",
    "import re\n",
    "\n",
    "string = \"The apple is rs 456 and egg is the rs of 7 \"\n",
    "\n",
    "result=re.findall(r\"\\b[ae]\\w+\",string)\n",
    "print(result)\n"
   ]
  },
  {
   "cell_type": "code",
   "execution_count": 9,
   "id": "1b6b6e3a",
   "metadata": {},
   "outputs": [
    {
     "name": "stdout",
     "output_type": "stream",
     "text": [
      "['Rohit', 'has', 'and', 'his', 'carr']\n"
     ]
    }
   ],
   "source": [
    "#que(4)\n",
    "str1=\"Rohit sharma has scored 43 centuries and 91 halfcenturies in his cricket carr\"\n",
    "\n",
    "pattern=r\"\\b\\w{3,5}\\b\"\n",
    "regex_pattern=re.compile(pattern)\n",
    "result=regex_pattern.findall(str1)\n",
    "print(result)"
   ]
  },
  {
   "cell_type": "code",
   "execution_count": 4,
   "id": "afc4f85b",
   "metadata": {},
   "outputs": [
    {
     "name": "stdout",
     "output_type": "stream",
     "text": [
      "['Of', 'Regular', 'Expression', 'In', 'Python']\n"
     ]
    }
   ],
   "source": [
    "#que(7)\n",
    "target_string=\"importanceOfRegularExpressionInPython\"\n",
    "\n",
    "result=re.findall(\"[A-Z][^A-Z]*\",target_string)\n",
    "print(result)"
   ]
  },
  {
   "cell_type": "code",
   "execution_count": 7,
   "id": "dc1320a9",
   "metadata": {},
   "outputs": [
    {
     "name": "stdout",
     "output_type": "stream",
     "text": [
      "Hello hello world\n"
     ]
    }
   ],
   "source": [
    "#que(25)\n",
    "string='Hello hello world world'\n",
    "regex=r'\\b(\\w+)(?:\\W+\\1\\b)+'\n",
    "x=re.sub(regex,r'\\1',string)\n",
    "print(x)"
   ]
  },
  {
   "cell_type": "code",
   "execution_count": 14,
   "id": "11562abe",
   "metadata": {},
   "outputs": [
    {
     "name": "stdout",
     "output_type": "stream",
     "text": [
      "['APJ', 'Abdul', 'kalam', 'was', 'also', 'known', 'the', 'Man', 'India']\n"
     ]
    }
   ],
   "source": [
    "#que(3)\n",
    "string=\"APJ Abdul kalam was an Indian aerospace scientist also known as the Missle Man of India\"\n",
    "pattren=r\"\\w{4}\"\n",
    "regex=re.compile(pattern)\n",
    "result=regex.findall(string)\n",
    "print(result)\n"
   ]
  },
  {
   "cell_type": "code",
   "execution_count": 16,
   "id": "cd6afe3b",
   "metadata": {},
   "outputs": [
    {
     "name": "stdout",
     "output_type": "stream",
     "text": [
      "python:Exerceise:PHP:exerceise\n"
     ]
    }
   ],
   "source": [
    "que(1)\n",
    "string='python Exerceise,PHP exerceise'\n",
    "x=re.sub(\"[ ,.]\",\":\",string)\n",
    "print(x)"
   ]
  },
  {
   "cell_type": "code",
   "execution_count": 28,
   "id": "50b5d64c",
   "metadata": {},
   "outputs": [
    {
     "name": "stdout",
     "output_type": "stream",
     "text": [
      "RegularExpression1IsAn2ImportantTopic3Inpython\n"
     ]
    }
   ],
   "source": [
    "#que(9)\n",
    "string=\"RegularExpression1IsAn2ImportantTopic3Inpython\"\n",
    "\n",
    "result=re.sub(r\"(\\w)([A-Z])(\\d+)\",r\"\\1\\2  \" ,string)\n",
    "print(result)"
   ]
  },
  {
   "cell_type": "code",
   "execution_count": 20,
   "id": "b405fd59",
   "metadata": {},
   "outputs": [
    {
     "name": "stdout",
     "output_type": "stream",
     "text": [
      "RegularExpression IsAn ImportantTopic Inpython\n"
     ]
    }
   ],
   "source": [
    "#que(8)\n",
    "string=\"RegularExpression1IsAn2ImportantTopic3Inpython\"\n",
    "\n",
    "result=re.sub(r\"(\\d)\",\" \" ,string)\n",
    "print(result)"
   ]
  },
  {
   "cell_type": "code",
   "execution_count": 36,
   "id": "bb60619e",
   "metadata": {},
   "outputs": [
    {
     "name": "stdout",
     "output_type": "stream",
     "text": [
      "['My', 'Name', 'is', 'swayang', 'subha_mohanty', '123']\n"
     ]
    }
   ],
   "source": [
    "#que(11)\n",
    "string=\"My Name is swayang subha_mohanty@123\"\n",
    "result=re.findall(r\"\\w+\",string)\n",
    "print(result)"
   ]
  },
  {
   "cell_type": "code",
   "execution_count": 9,
   "id": "882a3c03",
   "metadata": {},
   "outputs": [
    {
     "name": "stdout",
     "output_type": "stream",
     "text": [
      "example .com \n",
      "hr@fliprobo .com \n",
      "github .com \n",
      "Hello Data Science World \n",
      "Data Scientist \n"
     ]
    }
   ],
   "source": [
    "#que(5)\n",
    "string=[\"example(.com)\",\"hr@fliprobo(.com)\",\"github(.com)\",\"Hello(Data Science World)\",\"Data(Scientist)\"]\n",
    "for item in string:\n",
    "    pattern=re.sub(r\"[()]\",\" \",item)\n",
    "    print(pattern)\n",
    "    \n",
    "\n"
   ]
  },
  {
   "cell_type": "code",
   "execution_count": 33,
   "id": "159a2b50",
   "metadata": {},
   "outputs": [
    {
     "name": "stdout",
     "output_type": "stream",
     "text": [
      "['Virat', '', 'Is', '', 'a', '', 'Crickter', '', 'Who', '', 'Was', '', 'Born', '', 'On', '', 'November', '', '5_1988', '']\n"
     ]
    }
   ],
   "source": [
    "#que(11)\n",
    "target_string=\"Virat Is a Crickter Who Was Born On November 5_1988\"\n",
    "pattern=\"[A-Za-z0-9_]*\"\n",
    "result=re.findall(pattern,target_string)\n",
    "print(result)"
   ]
  },
  {
   "cell_type": "code",
   "execution_count": 45,
   "id": "3c588e99",
   "metadata": {},
   "outputs": [
    {
     "name": "stdout",
     "output_type": "stream",
     "text": [
      "<re.Match object; span=(7, 16), match='exercises'>\n",
      "<re.Match object; span=(4, 13), match='exercises'>\n",
      "<re.Match object; span=(3, 12), match='exercises'>\n"
     ]
    }
   ],
   "source": [
    "#que(17)\n",
    "string=['python exercises','PHP exercises','C# exercises']\n",
    "pattern='exercises'\n",
    "for match in string:\n",
    "    result=re.search(pattern,match)\n",
    "    print(result)\n",
    "        "
   ]
  },
  {
   "cell_type": "code",
   "execution_count": 52,
   "id": "5ad90593",
   "metadata": {},
   "outputs": [
    {
     "name": "stdout",
     "output_type": "stream",
     "text": [
      "<re.Match object; span=(16, 19), match='fox'>\n"
     ]
    }
   ],
   "source": [
    "#que(16)\n",
    "string=\"The quick brown fox jump over the lazy dog\"\n",
    "pattern=\"fox\"\n",
    "result=re.search(pattern,string)\n",
    "print(result)"
   ]
  },
  {
   "cell_type": "code",
   "execution_count": 59,
   "id": "70696705",
   "metadata": {},
   "outputs": [
    {
     "name": "stdout",
     "output_type": "stream",
     "text": [
      "['12-09-1992', '15-12-1999']\n"
     ]
    }
   ],
   "source": [
    "#que(29)\n",
    "string=\"Ron was born on 12-09-1992 and he was admitted to school 15-12-1999\"\n",
    "pattren=\"\\d{2}[/-]\\d{2}[/-]\\d{4}\"\n",
    "result=re.findall(pattren,string)\n",
    "print(result)"
   ]
  },
  {
   "cell_type": "code",
   "execution_count": 64,
   "id": "c7085e29",
   "metadata": {},
   "outputs": [
    {
     "name": "stdout",
     "output_type": "stream",
     "text": [
      "  following example creates   ArrayList   a capacity     elements .4 elements     added     ArrayList   trimmed accordingly\n"
     ]
    }
   ],
   "source": [
    "#que(30)\n",
    "string=\"The following example creates an ArrayList with a capacity of 50 elements .4 elements are then added to the ArrayList is trimmed accordingly\"\n",
    "pattern= r\"\\b\\w{2,4}\\b\"\n",
    "regex=re.compile(pattern)\n",
    "result=regex.sub(\" \",string)\n",
    "print(result)"
   ]
  },
  {
   "cell_type": "code",
   "execution_count": 1,
   "id": "287283f4",
   "metadata": {},
   "outputs": [],
   "source": [
    "#please solve all the question in a live class i donot understand what i understand i execute."
   ]
  },
  {
   "cell_type": "code",
   "execution_count": null,
   "id": "c5f3c018",
   "metadata": {},
   "outputs": [],
   "source": []
  }
 ],
 "metadata": {
  "kernelspec": {
   "display_name": "Python 3 (ipykernel)",
   "language": "python",
   "name": "python3"
  },
  "language_info": {
   "codemirror_mode": {
    "name": "ipython",
    "version": 3
   },
   "file_extension": ".py",
   "mimetype": "text/x-python",
   "name": "python",
   "nbconvert_exporter": "python",
   "pygments_lexer": "ipython3",
   "version": "3.9.13"
  }
 },
 "nbformat": 4,
 "nbformat_minor": 5
}
